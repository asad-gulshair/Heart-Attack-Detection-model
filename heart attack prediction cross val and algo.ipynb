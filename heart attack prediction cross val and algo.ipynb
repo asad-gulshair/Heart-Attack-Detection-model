{
 "cells": [
  {
   "cell_type": "markdown",
   "id": "432a7488",
   "metadata": {},
   "source": [
    "### First of all we will import libraries"
   ]
  },
  {
   "cell_type": "code",
   "execution_count": 244,
   "id": "a35162a2",
   "metadata": {},
   "outputs": [],
   "source": [
    "import pandas as pd\n",
    "import numpy as np\n",
    "import matplotlib.pyplot as plt\n",
    "import sklearn"
   ]
  },
  {
   "cell_type": "code",
   "execution_count": 245,
   "id": "7701c8ca",
   "metadata": {},
   "outputs": [
    {
     "data": {
      "text/html": [
       "<div>\n",
       "<style scoped>\n",
       "    .dataframe tbody tr th:only-of-type {\n",
       "        vertical-align: middle;\n",
       "    }\n",
       "\n",
       "    .dataframe tbody tr th {\n",
       "        vertical-align: top;\n",
       "    }\n",
       "\n",
       "    .dataframe thead th {\n",
       "        text-align: right;\n",
       "    }\n",
       "</style>\n",
       "<table border=\"1\" class=\"dataframe\">\n",
       "  <thead>\n",
       "    <tr style=\"text-align: right;\">\n",
       "      <th></th>\n",
       "      <th>serialNo</th>\n",
       "      <th>area</th>\n",
       "      <th>age</th>\n",
       "      <th>exercise</th>\n",
       "      <th>fast_food_new</th>\n",
       "      <th>occupation</th>\n",
       "      <th>incom_catg</th>\n",
       "      <th>smoking</th>\n",
       "      <th>marital_status</th>\n",
       "      <th>meat_intake</th>\n",
       "      <th>cooking_oil</th>\n",
       "      <th>fast_food</th>\n",
       "      <th>height</th>\n",
       "      <th>weight</th>\n",
       "      <th>bypass</th>\n",
       "      <th>heart_attack</th>\n",
       "    </tr>\n",
       "  </thead>\n",
       "  <tbody>\n",
       "    <tr>\n",
       "      <th>0</th>\n",
       "      <td>1</td>\n",
       "      <td>urban</td>\n",
       "      <td>64</td>\n",
       "      <td>none</td>\n",
       "      <td>greater than 3</td>\n",
       "      <td>job/business</td>\n",
       "      <td>middle</td>\n",
       "      <td>no smoker</td>\n",
       "      <td>single</td>\n",
       "      <td>&gt;3</td>\n",
       "      <td>oil</td>\n",
       "      <td>ex fast food</td>\n",
       "      <td>5.0</td>\n",
       "      <td>75</td>\n",
       "      <td>no</td>\n",
       "      <td>yes</td>\n",
       "    </tr>\n",
       "    <tr>\n",
       "      <th>1</th>\n",
       "      <td>2</td>\n",
       "      <td>rural</td>\n",
       "      <td>61</td>\n",
       "      <td>none</td>\n",
       "      <td>greater than 3</td>\n",
       "      <td>job/business</td>\n",
       "      <td>middle</td>\n",
       "      <td>no smoker</td>\n",
       "      <td>married</td>\n",
       "      <td>&gt;3</td>\n",
       "      <td>ghee</td>\n",
       "      <td>none</td>\n",
       "      <td>5.2</td>\n",
       "      <td>75</td>\n",
       "      <td>no</td>\n",
       "      <td>no</td>\n",
       "    </tr>\n",
       "    <tr>\n",
       "      <th>2</th>\n",
       "      <td>3</td>\n",
       "      <td>rural</td>\n",
       "      <td>75</td>\n",
       "      <td>none</td>\n",
       "      <td>greater than 3</td>\n",
       "      <td>job/business</td>\n",
       "      <td>middle</td>\n",
       "      <td>no smoker</td>\n",
       "      <td>single</td>\n",
       "      <td>&gt;3</td>\n",
       "      <td>oil</td>\n",
       "      <td>ex fast food</td>\n",
       "      <td>5.3</td>\n",
       "      <td>75</td>\n",
       "      <td>no</td>\n",
       "      <td>no</td>\n",
       "    </tr>\n",
       "    <tr>\n",
       "      <th>3</th>\n",
       "      <td>4</td>\n",
       "      <td>urban</td>\n",
       "      <td>70</td>\n",
       "      <td>none</td>\n",
       "      <td>less than 3</td>\n",
       "      <td>other wages</td>\n",
       "      <td>middle</td>\n",
       "      <td>no smoker</td>\n",
       "      <td>single</td>\n",
       "      <td>&lt;3</td>\n",
       "      <td>ghee</td>\n",
       "      <td>two time</td>\n",
       "      <td>5.5</td>\n",
       "      <td>70</td>\n",
       "      <td>no</td>\n",
       "      <td>no</td>\n",
       "    </tr>\n",
       "    <tr>\n",
       "      <th>4</th>\n",
       "      <td>5</td>\n",
       "      <td>rural</td>\n",
       "      <td>53</td>\n",
       "      <td>none</td>\n",
       "      <td>greater than 3</td>\n",
       "      <td>other wages</td>\n",
       "      <td>middle</td>\n",
       "      <td>no smoker</td>\n",
       "      <td>married</td>\n",
       "      <td>&gt;3</td>\n",
       "      <td>ghee</td>\n",
       "      <td>ex fast food</td>\n",
       "      <td>5.0</td>\n",
       "      <td>50</td>\n",
       "      <td>no</td>\n",
       "      <td>yes</td>\n",
       "    </tr>\n",
       "  </tbody>\n",
       "</table>\n",
       "</div>"
      ],
      "text/plain": [
       "   serialNo   area  age exercise   fast_food_new    occupation incom_catg  \\\n",
       "0         1  urban   64     none  greater than 3  job/business     middle   \n",
       "1         2  rural   61     none  greater than 3  job/business     middle   \n",
       "2         3  rural   75     none  greater than 3  job/business     middle   \n",
       "3         4  urban   70     none     less than 3   other wages     middle   \n",
       "4         5  rural   53     none  greater than 3   other wages     middle   \n",
       "\n",
       "     smoking marital_status meat_intake cooking_oil     fast_food  height  \\\n",
       "0  no smoker         single          >3         oil  ex fast food     5.0   \n",
       "1  no smoker        married          >3        ghee          none     5.2   \n",
       "2  no smoker         single          >3         oil  ex fast food     5.3   \n",
       "3  no smoker         single          <3        ghee      two time     5.5   \n",
       "4  no smoker        married          >3        ghee  ex fast food     5.0   \n",
       "\n",
       "   weight bypass heart_attack  \n",
       "0      75     no          yes  \n",
       "1      75     no           no  \n",
       "2      75     no           no  \n",
       "3      70     no           no  \n",
       "4      50     no          yes  "
      ]
     },
     "execution_count": 245,
     "metadata": {},
     "output_type": "execute_result"
    }
   ],
   "source": [
    "df=pd.read_excel(\"E:/data science 6th s//datasets//Heart_Data.xlsx\")\n",
    "df.head()"
   ]
  },
  {
   "cell_type": "markdown",
   "id": "6358c952",
   "metadata": {},
   "source": [
    "### First of all we will perfrom preprocessing of data"
   ]
  },
  {
   "cell_type": "code",
   "execution_count": 246,
   "id": "95f4e776",
   "metadata": {},
   "outputs": [
    {
     "name": "stdout",
     "output_type": "stream",
     "text": [
      "<class 'pandas.core.frame.DataFrame'>\n",
      "RangeIndex: 200 entries, 0 to 199\n",
      "Data columns (total 16 columns):\n",
      " #   Column          Non-Null Count  Dtype  \n",
      "---  ------          --------------  -----  \n",
      " 0   serialNo        200 non-null    int64  \n",
      " 1   area            200 non-null    object \n",
      " 2   age             200 non-null    int64  \n",
      " 3   exercise        200 non-null    object \n",
      " 4   fast_food_new   200 non-null    object \n",
      " 5   occupation      200 non-null    object \n",
      " 6   incom_catg      200 non-null    object \n",
      " 7   smoking         200 non-null    object \n",
      " 8   marital_status  200 non-null    object \n",
      " 9   meat_intake     200 non-null    object \n",
      " 10  cooking_oil     200 non-null    object \n",
      " 11  fast_food       200 non-null    object \n",
      " 12  height          200 non-null    float64\n",
      " 13  weight          200 non-null    int64  \n",
      " 14  bypass          200 non-null    object \n",
      " 15  heart_attack    200 non-null    object \n",
      "dtypes: float64(1), int64(3), object(12)\n",
      "memory usage: 25.1+ KB\n"
     ]
    }
   ],
   "source": [
    "df.info()"
   ]
  },
  {
   "cell_type": "code",
   "execution_count": 247,
   "id": "28fb52f9",
   "metadata": {},
   "outputs": [
    {
     "data": {
      "text/plain": [
       "serialNo          0\n",
       "area              0\n",
       "age               0\n",
       "exercise          0\n",
       "fast_food_new     0\n",
       "occupation        0\n",
       "incom_catg        0\n",
       "smoking           0\n",
       "marital_status    0\n",
       "meat_intake       0\n",
       "cooking_oil       0\n",
       "fast_food         0\n",
       "height            0\n",
       "weight            0\n",
       "bypass            0\n",
       "heart_attack      0\n",
       "dtype: int64"
      ]
     },
     "execution_count": 247,
     "metadata": {},
     "output_type": "execute_result"
    }
   ],
   "source": [
    "df.isna().sum()"
   ]
  },
  {
   "cell_type": "markdown",
   "id": "5326c97b",
   "metadata": {},
   "source": [
    "### so we can see that data have no missing value we can further proceed with our data set"
   ]
  },
  {
   "cell_type": "code",
   "execution_count": 248,
   "id": "8521e02a",
   "metadata": {},
   "outputs": [
    {
     "data": {
      "text/plain": [
       "(200, 16)"
      ]
     },
     "execution_count": 248,
     "metadata": {},
     "output_type": "execute_result"
    }
   ],
   "source": [
    "df.shape"
   ]
  },
  {
   "cell_type": "markdown",
   "id": "a4bb8bdb",
   "metadata": {},
   "source": [
    "### i will check the levels or unique value of some column after the checking we will covert them numeric with label encoder technique"
   ]
  },
  {
   "cell_type": "code",
   "execution_count": 249,
   "id": "1dd9af15",
   "metadata": {},
   "outputs": [
    {
     "data": {
      "text/plain": [
       "array(['urban', 'rural'], dtype=object)"
      ]
     },
     "execution_count": 249,
     "metadata": {},
     "output_type": "execute_result"
    }
   ],
   "source": [
    "df['area'].unique()\n",
    "\n"
   ]
  },
  {
   "cell_type": "code",
   "execution_count": 250,
   "id": "a0b73f18",
   "metadata": {},
   "outputs": [
    {
     "data": {
      "text/plain": [
       "array(['>3', '<3'], dtype=object)"
      ]
     },
     "execution_count": 250,
     "metadata": {},
     "output_type": "execute_result"
    }
   ],
   "source": [
    "df['meat_intake'].unique()"
   ]
  },
  {
   "cell_type": "code",
   "execution_count": 251,
   "id": "8b0e120b",
   "metadata": {},
   "outputs": [
    {
     "data": {
      "text/plain": [
       "array(['job/business', 'other wages', 'none'], dtype=object)"
      ]
     },
     "execution_count": 251,
     "metadata": {},
     "output_type": "execute_result"
    }
   ],
   "source": [
    "df['occupation'].unique()"
   ]
  },
  {
   "cell_type": "code",
   "execution_count": 252,
   "id": "187a2dfa",
   "metadata": {},
   "outputs": [
    {
     "data": {
      "text/plain": [
       "array(['no smoker', 'smoker'], dtype=object)"
      ]
     },
     "execution_count": 252,
     "metadata": {},
     "output_type": "execute_result"
    }
   ],
   "source": [
    "df['smoking'].unique()"
   ]
  },
  {
   "cell_type": "code",
   "execution_count": 253,
   "id": "786e71ec",
   "metadata": {},
   "outputs": [
    {
     "data": {
      "text/plain": [
       "no     154\n",
       "yes     46\n",
       "Name: heart_attack, dtype: int64"
      ]
     },
     "execution_count": 253,
     "metadata": {},
     "output_type": "execute_result"
    }
   ],
   "source": [
    "df['heart_attack'].value_counts()"
   ]
  },
  {
   "cell_type": "code",
   "execution_count": 254,
   "id": "6f7f2708",
   "metadata": {},
   "outputs": [
    {
     "data": {
      "text/plain": [
       "([<matplotlib.patches.Wedge at 0x1afc66b7090>,\n",
       "  <matplotlib.patches.Wedge at 0x1afc66951d0>],\n",
       " [Text(0.16448881261594633, -1.0876320290080632, '154'),\n",
       "  Text(-0.16448876170021667, 1.087632036708339, '46')],\n",
       " [Text(0.0897211705177889, -0.593253834004398, '77.0%'),\n",
       "  Text(-0.08972114274557273, 0.5932538382045485, '23.0%')])"
      ]
     },
     "execution_count": 254,
     "metadata": {},
     "output_type": "execute_result"
    },
    {
     "data": {
      "image/png": "[encoded data removed]",
      "text/plain": [
       "<Figure size 640x480 with 1 Axes>"
      ]
     },
     "metadata": {},
     "output_type": "display_data"
    }
   ],
   "source": [
    "plt.pie(df['heart_attack'].value_counts(),autopct='%1.1f%%', startangle=140,labels=df['heart_attack'].value_counts())"
   ]
  },
  {
   "cell_type": "markdown",
   "id": "090e8a27",
   "metadata": {},
   "source": [
    "# Now checking outlier in data columns"
   ]
  },
  {
   "cell_type": "code",
   "execution_count": 255,
   "id": "f795d9e1",
   "metadata": {},
   "outputs": [],
   "source": [
    "columns_to_plot = ['age', 'height', 'weight']"
   ]
  },
  {
   "cell_type": "code",
   "execution_count": 256,
   "id": "b21ac46f",
   "metadata": {},
   "outputs": [
    {
     "data": {
      "text/plain": [
       "array([[<Axes: title={'center': 'age'}>,\n",
       "        <Axes: title={'center': 'height'}>],\n",
       "       [<Axes: title={'center': 'weight'}>, <Axes: >]], dtype=object)"
      ]
     },
     "execution_count": 256,
     "metadata": {},
     "output_type": "execute_result"
    },
    {
     "data": {
      "image/png": "[encoded data removed]",
      "text/plain": [
       "<Figure size 640x480 with 4 Axes>"
      ]
     },
     "metadata": {},
     "output_type": "display_data"
    }
   ],
   "source": [
    "df.hist(columns_to_plot)"
   ]
  },
  {
   "cell_type": "markdown",
   "id": "b1ee24fc",
   "metadata": {},
   "source": [
    "### with the help of this histogrm we Now we can see that no otlier in our data soo we can move further "
   ]
  },
  {
   "cell_type": "markdown",
   "id": "00a5f174",
   "metadata": {},
   "source": [
    "#### column 1 seems to idendifier so we can remove this column"
   ]
  },
  {
   "cell_type": "code",
   "execution_count": 257,
   "id": "ae289108",
   "metadata": {},
   "outputs": [],
   "source": [
    "df.drop(columns=['serialNo'], inplace=True)"
   ]
  },
  {
   "cell_type": "code",
   "execution_count": 258,
   "id": "3e99afc0",
   "metadata": {},
   "outputs": [
    {
     "data": {
      "text/html": [
       "<div>\n",
       "<style scoped>\n",
       "    .dataframe tbody tr th:only-of-type {\n",
       "        vertical-align: middle;\n",
       "    }\n",
       "\n",
       "    .dataframe tbody tr th {\n",
       "        vertical-align: top;\n",
       "    }\n",
       "\n",
       "    .dataframe thead th {\n",
       "        text-align: right;\n",
       "    }\n",
       "</style>\n",
       "<table border=\"1\" class=\"dataframe\">\n",
       "  <thead>\n",
       "    <tr style=\"text-align: right;\">\n",
       "      <th></th>\n",
       "      <th>area</th>\n",
       "      <th>age</th>\n",
       "      <th>exercise</th>\n",
       "      <th>fast_food_new</th>\n",
       "      <th>occupation</th>\n",
       "      <th>incom_catg</th>\n",
       "      <th>smoking</th>\n",
       "      <th>marital_status</th>\n",
       "      <th>meat_intake</th>\n",
       "      <th>cooking_oil</th>\n",
       "      <th>fast_food</th>\n",
       "      <th>height</th>\n",
       "      <th>weight</th>\n",
       "      <th>bypass</th>\n",
       "      <th>heart_attack</th>\n",
       "    </tr>\n",
       "  </thead>\n",
       "  <tbody>\n",
       "    <tr>\n",
       "      <th>0</th>\n",
       "      <td>urban</td>\n",
       "      <td>64</td>\n",
       "      <td>none</td>\n",
       "      <td>greater than 3</td>\n",
       "      <td>job/business</td>\n",
       "      <td>middle</td>\n",
       "      <td>no smoker</td>\n",
       "      <td>single</td>\n",
       "      <td>&gt;3</td>\n",
       "      <td>oil</td>\n",
       "      <td>ex fast food</td>\n",
       "      <td>5.0</td>\n",
       "      <td>75</td>\n",
       "      <td>no</td>\n",
       "      <td>yes</td>\n",
       "    </tr>\n",
       "    <tr>\n",
       "      <th>1</th>\n",
       "      <td>rural</td>\n",
       "      <td>61</td>\n",
       "      <td>none</td>\n",
       "      <td>greater than 3</td>\n",
       "      <td>job/business</td>\n",
       "      <td>middle</td>\n",
       "      <td>no smoker</td>\n",
       "      <td>married</td>\n",
       "      <td>&gt;3</td>\n",
       "      <td>ghee</td>\n",
       "      <td>none</td>\n",
       "      <td>5.2</td>\n",
       "      <td>75</td>\n",
       "      <td>no</td>\n",
       "      <td>no</td>\n",
       "    </tr>\n",
       "    <tr>\n",
       "      <th>2</th>\n",
       "      <td>rural</td>\n",
       "      <td>75</td>\n",
       "      <td>none</td>\n",
       "      <td>greater than 3</td>\n",
       "      <td>job/business</td>\n",
       "      <td>middle</td>\n",
       "      <td>no smoker</td>\n",
       "      <td>single</td>\n",
       "      <td>&gt;3</td>\n",
       "      <td>oil</td>\n",
       "      <td>ex fast food</td>\n",
       "      <td>5.3</td>\n",
       "      <td>75</td>\n",
       "      <td>no</td>\n",
       "      <td>no</td>\n",
       "    </tr>\n",
       "    <tr>\n",
       "      <th>3</th>\n",
       "      <td>urban</td>\n",
       "      <td>70</td>\n",
       "      <td>none</td>\n",
       "      <td>less than 3</td>\n",
       "      <td>other wages</td>\n",
       "      <td>middle</td>\n",
       "      <td>no smoker</td>\n",
       "      <td>single</td>\n",
       "      <td>&lt;3</td>\n",
       "      <td>ghee</td>\n",
       "      <td>two time</td>\n",
       "      <td>5.5</td>\n",
       "      <td>70</td>\n",
       "      <td>no</td>\n",
       "      <td>no</td>\n",
       "    </tr>\n",
       "    <tr>\n",
       "      <th>4</th>\n",
       "      <td>rural</td>\n",
       "      <td>53</td>\n",
       "      <td>none</td>\n",
       "      <td>greater than 3</td>\n",
       "      <td>other wages</td>\n",
       "      <td>middle</td>\n",
       "      <td>no smoker</td>\n",
       "      <td>married</td>\n",
       "      <td>&gt;3</td>\n",
       "      <td>ghee</td>\n",
       "      <td>ex fast food</td>\n",
       "      <td>5.0</td>\n",
       "      <td>50</td>\n",
       "      <td>no</td>\n",
       "      <td>yes</td>\n",
       "    </tr>\n",
       "  </tbody>\n",
       "</table>\n",
       "</div>"
      ],
      "text/plain": [
       "    area  age exercise   fast_food_new    occupation incom_catg    smoking  \\\n",
       "0  urban   64     none  greater than 3  job/business     middle  no smoker   \n",
       "1  rural   61     none  greater than 3  job/business     middle  no smoker   \n",
       "2  rural   75     none  greater than 3  job/business     middle  no smoker   \n",
       "3  urban   70     none     less than 3   other wages     middle  no smoker   \n",
       "4  rural   53     none  greater than 3   other wages     middle  no smoker   \n",
       "\n",
       "  marital_status meat_intake cooking_oil     fast_food  height  weight bypass  \\\n",
       "0         single          >3         oil  ex fast food     5.0      75     no   \n",
       "1        married          >3        ghee          none     5.2      75     no   \n",
       "2         single          >3         oil  ex fast food     5.3      75     no   \n",
       "3         single          <3        ghee      two time     5.5      70     no   \n",
       "4        married          >3        ghee  ex fast food     5.0      50     no   \n",
       "\n",
       "  heart_attack  \n",
       "0          yes  \n",
       "1           no  \n",
       "2           no  \n",
       "3           no  \n",
       "4          yes  "
      ]
     },
     "execution_count": 258,
     "metadata": {},
     "output_type": "execute_result"
    }
   ],
   "source": [
    "df.head()"
   ]
  },
  {
   "cell_type": "markdown",
   "id": "85f3023c",
   "metadata": {},
   "source": [
    "## now we have to convert charater column to numeric for model preprepation"
   ]
  },
  {
   "cell_type": "code",
   "execution_count": 259,
   "id": "83257198",
   "metadata": {},
   "outputs": [],
   "source": [
    "from sklearn.preprocessing import LabelEncoder, StandardScaler\n"
   ]
  },
  {
   "cell_type": "markdown",
   "id": "bdaf09ec",
   "metadata": {},
   "source": []
  },
  {
   "cell_type": "markdown",
   "id": "53c6f455",
   "metadata": {},
   "source": [
    "## Encode categorical variables using label encoding"
   ]
  },
  {
   "cell_type": "code",
   "execution_count": 260,
   "id": "82d3188e",
   "metadata": {},
   "outputs": [],
   "source": [
    "label_encoders = {}\n",
    "for col in df.select_dtypes(include=['object']).columns:\n",
    "    label_encoders[col] = LabelEncoder()\n",
    "    df[col] = label_encoders[col].fit_transform(df[col])\n"
   ]
  },
  {
   "cell_type": "code",
   "execution_count": 261,
   "id": "f5a473ef",
   "metadata": {},
   "outputs": [
    {
     "data": {
      "text/html": [
       "<div>\n",
       "<style scoped>\n",
       "    .dataframe tbody tr th:only-of-type {\n",
       "        vertical-align: middle;\n",
       "    }\n",
       "\n",
       "    .dataframe tbody tr th {\n",
       "        vertical-align: top;\n",
       "    }\n",
       "\n",
       "    .dataframe thead th {\n",
       "        text-align: right;\n",
       "    }\n",
       "</style>\n",
       "<table border=\"1\" class=\"dataframe\">\n",
       "  <thead>\n",
       "    <tr style=\"text-align: right;\">\n",
       "      <th></th>\n",
       "      <th>area</th>\n",
       "      <th>age</th>\n",
       "      <th>exercise</th>\n",
       "      <th>fast_food_new</th>\n",
       "      <th>occupation</th>\n",
       "      <th>incom_catg</th>\n",
       "      <th>smoking</th>\n",
       "      <th>marital_status</th>\n",
       "      <th>meat_intake</th>\n",
       "      <th>cooking_oil</th>\n",
       "      <th>fast_food</th>\n",
       "      <th>height</th>\n",
       "      <th>weight</th>\n",
       "      <th>bypass</th>\n",
       "      <th>heart_attack</th>\n",
       "    </tr>\n",
       "  </thead>\n",
       "  <tbody>\n",
       "    <tr>\n",
       "      <th>0</th>\n",
       "      <td>1</td>\n",
       "      <td>64</td>\n",
       "      <td>1</td>\n",
       "      <td>0</td>\n",
       "      <td>0</td>\n",
       "      <td>2</td>\n",
       "      <td>0</td>\n",
       "      <td>1</td>\n",
       "      <td>1</td>\n",
       "      <td>2</td>\n",
       "      <td>0</td>\n",
       "      <td>5.0</td>\n",
       "      <td>75</td>\n",
       "      <td>0</td>\n",
       "      <td>1</td>\n",
       "    </tr>\n",
       "    <tr>\n",
       "      <th>1</th>\n",
       "      <td>0</td>\n",
       "      <td>61</td>\n",
       "      <td>1</td>\n",
       "      <td>0</td>\n",
       "      <td>0</td>\n",
       "      <td>2</td>\n",
       "      <td>0</td>\n",
       "      <td>0</td>\n",
       "      <td>1</td>\n",
       "      <td>1</td>\n",
       "      <td>3</td>\n",
       "      <td>5.2</td>\n",
       "      <td>75</td>\n",
       "      <td>0</td>\n",
       "      <td>0</td>\n",
       "    </tr>\n",
       "    <tr>\n",
       "      <th>2</th>\n",
       "      <td>0</td>\n",
       "      <td>75</td>\n",
       "      <td>1</td>\n",
       "      <td>0</td>\n",
       "      <td>0</td>\n",
       "      <td>2</td>\n",
       "      <td>0</td>\n",
       "      <td>1</td>\n",
       "      <td>1</td>\n",
       "      <td>2</td>\n",
       "      <td>0</td>\n",
       "      <td>5.3</td>\n",
       "      <td>75</td>\n",
       "      <td>0</td>\n",
       "      <td>0</td>\n",
       "    </tr>\n",
       "    <tr>\n",
       "      <th>3</th>\n",
       "      <td>1</td>\n",
       "      <td>70</td>\n",
       "      <td>1</td>\n",
       "      <td>1</td>\n",
       "      <td>2</td>\n",
       "      <td>2</td>\n",
       "      <td>0</td>\n",
       "      <td>1</td>\n",
       "      <td>0</td>\n",
       "      <td>1</td>\n",
       "      <td>7</td>\n",
       "      <td>5.5</td>\n",
       "      <td>70</td>\n",
       "      <td>0</td>\n",
       "      <td>0</td>\n",
       "    </tr>\n",
       "    <tr>\n",
       "      <th>4</th>\n",
       "      <td>0</td>\n",
       "      <td>53</td>\n",
       "      <td>1</td>\n",
       "      <td>0</td>\n",
       "      <td>2</td>\n",
       "      <td>2</td>\n",
       "      <td>0</td>\n",
       "      <td>0</td>\n",
       "      <td>1</td>\n",
       "      <td>1</td>\n",
       "      <td>0</td>\n",
       "      <td>5.0</td>\n",
       "      <td>50</td>\n",
       "      <td>0</td>\n",
       "      <td>1</td>\n",
       "    </tr>\n",
       "  </tbody>\n",
       "</table>\n",
       "</div>"
      ],
      "text/plain": [
       "   area  age  exercise  fast_food_new  occupation  incom_catg  smoking  \\\n",
       "0     1   64         1              0           0           2        0   \n",
       "1     0   61         1              0           0           2        0   \n",
       "2     0   75         1              0           0           2        0   \n",
       "3     1   70         1              1           2           2        0   \n",
       "4     0   53         1              0           2           2        0   \n",
       "\n",
       "   marital_status  meat_intake  cooking_oil  fast_food  height  weight  \\\n",
       "0               1            1            2          0     5.0      75   \n",
       "1               0            1            1          3     5.2      75   \n",
       "2               1            1            2          0     5.3      75   \n",
       "3               1            0            1          7     5.5      70   \n",
       "4               0            1            1          0     5.0      50   \n",
       "\n",
       "   bypass  heart_attack  \n",
       "0       0             1  \n",
       "1       0             0  \n",
       "2       0             0  \n",
       "3       0             0  \n",
       "4       0             1  "
      ]
     },
     "execution_count": 261,
     "metadata": {},
     "output_type": "execute_result"
    }
   ],
   "source": [
    "df.head()"
   ]
  },
  {
   "cell_type": "markdown",
   "id": "cb8127ec",
   "metadata": {},
   "source": []
  },
  {
   "cell_type": "code",
   "execution_count": null,
   "id": "4385c11d",
   "metadata": {},
   "outputs": [],
   "source": []
  },
  {
   "cell_type": "code",
   "execution_count": null,
   "id": "1cd178cd",
   "metadata": {},
   "outputs": [],
   "source": []
  },
  {
   "cell_type": "markdown",
   "id": "44c1bb3d",
   "metadata": {},
   "source": [
    "## Now we have converted all the column using label encoder technique because algo will be work on numerical value"
   ]
  },
  {
   "cell_type": "code",
   "execution_count": 262,
   "id": "53708a15",
   "metadata": {},
   "outputs": [],
   "source": [
    "df2=df.drop('heart_attack',axis='columns')"
   ]
  },
  {
   "cell_type": "code",
   "execution_count": 263,
   "id": "73944b84",
   "metadata": {},
   "outputs": [
    {
     "data": {
      "text/plain": [
       "0    1\n",
       "1    0\n",
       "2    0\n",
       "3    0\n",
       "4    1\n",
       "Name: heart_attack, dtype: int32"
      ]
     },
     "execution_count": 263,
     "metadata": {},
     "output_type": "execute_result"
    }
   ],
   "source": [
    "target=df.heart_attack\n",
    "\n",
    "target.head()"
   ]
  },
  {
   "cell_type": "markdown",
   "id": "7ee2d32b",
   "metadata": {},
   "source": [
    "## we have separated our target column now we will train our model"
   ]
  },
  {
   "cell_type": "code",
   "execution_count": 264,
   "id": "b1070ee5",
   "metadata": {},
   "outputs": [],
   "source": [
    "from sklearn.model_selection import train_test_split\n",
    "x_train,x_test,y_train,y_test=train_test_split(df2,target,test_size=0.30)"
   ]
  },
  {
   "cell_type": "markdown",
   "id": "1986cdf2",
   "metadata": {},
   "source": [
    "### first we will train our model with 70% train data "
   ]
  },
  {
   "cell_type": "markdown",
   "id": "400c2faf",
   "metadata": {},
   "source": [
    "# 1-Logistic regreession model"
   ]
  },
  {
   "cell_type": "code",
   "execution_count": 265,
   "id": "157658be",
   "metadata": {},
   "outputs": [
    {
     "name": "stderr",
     "output_type": "stream",
     "text": [
      "C:\\Users\\Aslam Computer\\anaconda3\\Lib\\site-packages\\sklearn\\linear_model\\_logistic.py:458: ConvergenceWarning: lbfgs failed to converge (status=1):\n",
      "STOP: TOTAL NO. of ITERATIONS REACHED LIMIT.\n",
      "\n",
      "Increase the number of iterations (max_iter) or scale the data as shown in:\n",
      "    https://scikit-learn.org/stable/modules/preprocessing.html\n",
      "Please also refer to the documentation for alternative solver options:\n",
      "    https://scikit-learn.org/stable/modules/linear_model.html#logistic-regression\n",
      "  n_iter_i = _check_optimize_result(\n"
     ]
    }
   ],
   "source": [
    "from sklearn.linear_model import LogisticRegression\n",
    "lr=LogisticRegression()\n",
    "model1=lr.fit(x_train,y_train)"
   ]
  },
  {
   "cell_type": "code",
   "execution_count": 266,
   "id": "1a7cd7a4",
   "metadata": {},
   "outputs": [
    {
     "data": {
      "text/plain": [
       "0.8333333333333334"
      ]
     },
     "execution_count": 266,
     "metadata": {},
     "output_type": "execute_result"
    }
   ],
   "source": [
    "model1.score(x_test,y_test)"
   ]
  },
  {
   "cell_type": "markdown",
   "id": "da4a26da",
   "metadata": {},
   "source": [
    "## so we can see that the accuracy of model with logistic regression is good "
   ]
  },
  {
   "cell_type": "code",
   "execution_count": 267,
   "id": "b8338fc6",
   "metadata": {},
   "outputs": [
    {
     "data": {
      "text/plain": [
       "array([0, 0, 0, 0, 0, 0, 0, 0, 0, 1, 0, 0, 0, 0, 0, 0, 0, 0, 0, 1, 0, 1,\n",
       "       0, 0, 1, 0, 0, 0, 0, 0, 1, 0, 0, 0, 0, 1, 0, 0, 1, 0, 0, 0, 0, 0,\n",
       "       0, 0, 0, 0, 0, 0, 0, 0, 0, 0, 0, 1, 1, 0, 1, 0])"
      ]
     },
     "execution_count": 267,
     "metadata": {},
     "output_type": "execute_result"
    }
   ],
   "source": [
    "y_predicted=model1.predict(x_test)\n",
    "y_predicted"
   ]
  },
  {
   "cell_type": "code",
   "execution_count": 268,
   "id": "4d1794ca",
   "metadata": {},
   "outputs": [
    {
     "data": {
      "text/plain": [
       "array([[45,  5],\n",
       "       [ 5,  5]], dtype=int64)"
      ]
     },
     "execution_count": 268,
     "metadata": {},
     "output_type": "execute_result"
    }
   ],
   "source": [
    "from sklearn.metrics import confusion_matrix\n",
    "cm=confusion_matrix(y_test,y_predicted)\n",
    "cm"
   ]
  },
  {
   "cell_type": "code",
   "execution_count": 269,
   "id": "55a14d41",
   "metadata": {},
   "outputs": [],
   "source": [
    "import matplotlib.pyplot as plt\n",
    "import seaborn as sn"
   ]
  },
  {
   "cell_type": "code",
   "execution_count": 270,
   "id": "521c7e6e",
   "metadata": {},
   "outputs": [
    {
     "data": {
      "text/plain": [
       "Text(50.722222222222214, 0.5, 'actual')"
      ]
     },
     "execution_count": 270,
     "metadata": {},
     "output_type": "execute_result"
    },
    {
     "data": {
      "image/png": "[encoded data removed]",
      "text/plain": [
       "<Figure size 640x480 with 2 Axes>"
      ]
     },
     "metadata": {},
     "output_type": "display_data"
    }
   ],
   "source": [
    "sn.heatmap(cm,annot=True)\n",
    "plt.xlabel('predicted')\n",
    "plt.ylabel('actual')"
   ]
  },
  {
   "cell_type": "markdown",
   "id": "47ce20a0",
   "metadata": {},
   "source": [
    "## Now we wil use 20% data for test and 80% data for training"
   ]
  },
  {
   "cell_type": "code",
   "execution_count": 271,
   "id": "3a448caf",
   "metadata": {},
   "outputs": [],
   "source": [
    "xtrain,xtest,ytrain,ytest=train_test_split(df2,target,test_size=0.20)"
   ]
  },
  {
   "cell_type": "code",
   "execution_count": 272,
   "id": "2156d022",
   "metadata": {},
   "outputs": [
    {
     "name": "stderr",
     "output_type": "stream",
     "text": [
      "C:\\Users\\Aslam Computer\\anaconda3\\Lib\\site-packages\\sklearn\\linear_model\\_logistic.py:458: ConvergenceWarning: lbfgs failed to converge (status=1):\n",
      "STOP: TOTAL NO. of ITERATIONS REACHED LIMIT.\n",
      "\n",
      "Increase the number of iterations (max_iter) or scale the data as shown in:\n",
      "    https://scikit-learn.org/stable/modules/preprocessing.html\n",
      "Please also refer to the documentation for alternative solver options:\n",
      "    https://scikit-learn.org/stable/modules/linear_model.html#logistic-regression\n",
      "  n_iter_i = _check_optimize_result(\n"
     ]
    }
   ],
   "source": [
    "lr2=LogisticRegression()\n",
    "model2=lr.fit(xtrain,ytrain)"
   ]
  },
  {
   "cell_type": "code",
   "execution_count": 273,
   "id": "b033fde9",
   "metadata": {},
   "outputs": [
    {
     "data": {
      "text/plain": [
       "0.825"
      ]
     },
     "execution_count": 273,
     "metadata": {},
     "output_type": "execute_result"
    }
   ],
   "source": [
    "model2.score(xtest,ytest)"
   ]
  },
  {
   "cell_type": "markdown",
   "id": "987ac090",
   "metadata": {},
   "source": [
    "## accuracy is not with 20% test data so will use 30% data for our model"
   ]
  },
  {
   "cell_type": "code",
   "execution_count": null,
   "id": "c4e2d78f",
   "metadata": {},
   "outputs": [],
   "source": []
  },
  {
   "cell_type": "code",
   "execution_count": null,
   "id": "e4d136f0",
   "metadata": {},
   "outputs": [],
   "source": []
  },
  {
   "cell_type": "markdown",
   "id": "1bf71a8a",
   "metadata": {},
   "source": [
    "# 2- KNN model for Data"
   ]
  },
  {
   "cell_type": "code",
   "execution_count": 274,
   "id": "5ac67769",
   "metadata": {},
   "outputs": [],
   "source": [
    "from sklearn.neighbors import KNeighborsClassifier\n",
    "knn=KNeighborsClassifier(n_neighbors=3)"
   ]
  },
  {
   "cell_type": "code",
   "execution_count": 275,
   "id": "7b09a9e5",
   "metadata": {},
   "outputs": [],
   "source": [
    "model3=knn.fit(x_train,y_train)"
   ]
  },
  {
   "cell_type": "code",
   "execution_count": 276,
   "id": "1de52759",
   "metadata": {},
   "outputs": [
    {
     "data": {
      "text/plain": [
       "0.8333333333333334"
      ]
     },
     "execution_count": 276,
     "metadata": {},
     "output_type": "execute_result"
    }
   ],
   "source": [
    "model3.score(x_test,y_test)"
   ]
  },
  {
   "cell_type": "code",
   "execution_count": 277,
   "id": "8b6b3793",
   "metadata": {},
   "outputs": [
    {
     "data": {
      "text/plain": [
       "array([0, 1, 0, 0, 0, 0, 0, 0, 0, 1, 0, 0, 0, 0, 0, 0, 0, 0, 0, 0, 0, 1,\n",
       "       0, 0, 0, 1, 0, 0, 0, 0, 1, 0, 0, 0, 0, 0, 1, 0, 0, 0, 1, 0, 0, 1,\n",
       "       0, 0, 0, 0, 0, 0, 1, 0, 0, 0, 0, 1, 0, 0, 0, 0])"
      ]
     },
     "execution_count": 277,
     "metadata": {},
     "output_type": "execute_result"
    }
   ],
   "source": [
    "y_predicted1=model3.predict(x_test)\n",
    "y_predicted1"
   ]
  },
  {
   "cell_type": "code",
   "execution_count": 278,
   "id": "3eefed50",
   "metadata": {},
   "outputs": [
    {
     "data": {
      "text/plain": [
       "array([[45,  5],\n",
       "       [ 5,  5]], dtype=int64)"
      ]
     },
     "execution_count": 278,
     "metadata": {},
     "output_type": "execute_result"
    }
   ],
   "source": [
    "cm1=confusion_matrix(y_test,y_predicted1)\n",
    "cm1"
   ]
  },
  {
   "cell_type": "markdown",
   "id": "4f9f960b",
   "metadata": {},
   "source": [
    "## We can see that accuracy with knn is  good "
   ]
  },
  {
   "cell_type": "code",
   "execution_count": 279,
   "id": "a1b9bd59",
   "metadata": {},
   "outputs": [],
   "source": [
    "model4=knn.fit(xtrain,ytrain)"
   ]
  },
  {
   "cell_type": "code",
   "execution_count": 280,
   "id": "e3ae5b0b",
   "metadata": {},
   "outputs": [
    {
     "data": {
      "text/plain": [
       "0.75"
      ]
     },
     "execution_count": 280,
     "metadata": {},
     "output_type": "execute_result"
    }
   ],
   "source": [
    "model4.score(xtest,ytest)"
   ]
  },
  {
   "cell_type": "code",
   "execution_count": null,
   "id": "c5208913",
   "metadata": {},
   "outputs": [],
   "source": []
  },
  {
   "cell_type": "code",
   "execution_count": null,
   "id": "cff1fea4",
   "metadata": {},
   "outputs": [],
   "source": []
  },
  {
   "cell_type": "markdown",
   "id": "43bbfe29",
   "metadata": {},
   "source": [
    "# 3- Random Forest Algorithm"
   ]
  },
  {
   "cell_type": "code",
   "execution_count": 281,
   "id": "6ea30a48",
   "metadata": {},
   "outputs": [],
   "source": [
    "from sklearn.ensemble import RandomForestClassifier\n",
    "rn=RandomForestClassifier()\n",
    "model5=rn.fit(x_train,y_train)"
   ]
  },
  {
   "cell_type": "code",
   "execution_count": 282,
   "id": "350315ed",
   "metadata": {},
   "outputs": [
    {
     "data": {
      "text/plain": [
       "0.7666666666666667"
      ]
     },
     "execution_count": 282,
     "metadata": {},
     "output_type": "execute_result"
    }
   ],
   "source": [
    "model5.score(x_test,y_test)"
   ]
  },
  {
   "cell_type": "code",
   "execution_count": 283,
   "id": "a1fe2eee",
   "metadata": {},
   "outputs": [
    {
     "data": {
      "text/plain": [
       "array([0, 0, 0, 0, 0, 0, 0, 0, 0, 1, 0, 0, 0, 0, 0, 0, 0, 0, 0, 0, 0, 1,\n",
       "       0, 0, 1, 1, 0, 0, 0, 0, 1, 1, 0, 0, 0, 1, 0, 0, 1, 0, 0, 0, 0, 0,\n",
       "       0, 0, 0, 0, 0, 1, 0, 0, 0, 0, 0, 1, 1, 1, 0, 0])"
      ]
     },
     "execution_count": 283,
     "metadata": {},
     "output_type": "execute_result"
    }
   ],
   "source": [
    "y_predicted2=model5.predict(x_test)\n",
    "y_predicted2"
   ]
  },
  {
   "cell_type": "code",
   "execution_count": 284,
   "id": "d78b3e62",
   "metadata": {},
   "outputs": [
    {
     "data": {
      "text/plain": [
       "array([[42,  8],\n",
       "       [ 6,  4]], dtype=int64)"
      ]
     },
     "execution_count": 284,
     "metadata": {},
     "output_type": "execute_result"
    }
   ],
   "source": [
    "cm2=confusion_matrix(y_test,y_predicted2)\n",
    "cm2"
   ]
  },
  {
   "cell_type": "code",
   "execution_count": 285,
   "id": "e67acb53",
   "metadata": {},
   "outputs": [
    {
     "data": {
      "text/plain": [
       "Text(50.722222222222214, 0.5, 'actual')"
      ]
     },
     "execution_count": 285,
     "metadata": {},
     "output_type": "execute_result"
    },
    {
     "data": {
      "image/png": "[encoded data removed]",
      "text/plain": [
       "<Figure size 640x480 with 2 Axes>"
      ]
     },
     "metadata": {},
     "output_type": "display_data"
    }
   ],
   "source": [
    "sn.heatmap(cm2,annot=True)\n",
    "plt.xlabel('predicted')\n",
    "plt.ylabel('actual')"
   ]
  },
  {
   "cell_type": "markdown",
   "id": "c9ca8eec",
   "metadata": {},
   "source": [
    "\n",
    "# for 80% training data set of random forest"
   ]
  },
  {
   "cell_type": "code",
   "execution_count": 286,
   "id": "3fcda644",
   "metadata": {},
   "outputs": [],
   "source": [
    "model6=rn.fit(xtrain,ytrain)"
   ]
  },
  {
   "cell_type": "code",
   "execution_count": 287,
   "id": "9cdc33ce",
   "metadata": {},
   "outputs": [
    {
     "data": {
      "text/plain": [
       "0.825"
      ]
     },
     "execution_count": 287,
     "metadata": {},
     "output_type": "execute_result"
    }
   ],
   "source": [
    "model6.score(xtest,ytest)"
   ]
  },
  {
   "cell_type": "code",
   "execution_count": null,
   "id": "5514a576",
   "metadata": {},
   "outputs": [],
   "source": []
  },
  {
   "cell_type": "code",
   "execution_count": null,
   "id": "33b4ebf8",
   "metadata": {},
   "outputs": [],
   "source": []
  },
  {
   "cell_type": "markdown",
   "id": "680129c9",
   "metadata": {},
   "source": [
    "# 1- Now we will Use Decision Tree for model"
   ]
  },
  {
   "cell_type": "code",
   "execution_count": 310,
   "id": "ee451a8b",
   "metadata": {},
   "outputs": [],
   "source": [
    "from sklearn import tree\n",
    "model7=tree.DecisionTreeClassifier()"
   ]
  },
  {
   "cell_type": "code",
   "execution_count": 311,
   "id": "761ab548",
   "metadata": {},
   "outputs": [
    {
     "data": {
      "text/html": [
       "<style>#sk-container-id-7 {color: black;background-color: white;}#sk-container-id-7 pre{padding: 0;}#sk-container-id-7 div.sk-toggleable {background-color: white;}#sk-container-id-7 label.sk-toggleable__label {cursor: pointer;display: block;width: 100%;margin-bottom: 0;padding: 0.3em;box-sizing: border-box;text-align: center;}#sk-container-id-7 label.sk-toggleable__label-arrow:before {content: \"▸\";float: left;margin-right: 0.25em;color: #696969;}#sk-container-id-7 label.sk-toggleable__label-arrow:hover:before {color: black;}#sk-container-id-7 div.sk-estimator:hover label.sk-toggleable__label-arrow:before {color: black;}#sk-container-id-7 div.sk-toggleable__content {max-height: 0;max-width: 0;overflow: hidden;text-align: left;background-color: #f0f8ff;}#sk-container-id-7 div.sk-toggleable__content pre {margin: 0.2em;color: black;border-radius: 0.25em;background-color: #f0f8ff;}#sk-container-id-7 input.sk-toggleable__control:checked~div.sk-toggleable__content {max-height: 200px;max-width: 100%;overflow: auto;}#sk-container-id-7 input.sk-toggleable__control:checked~label.sk-toggleable__label-arrow:before {content: \"▾\";}#sk-container-id-7 div.sk-estimator input.sk-toggleable__control:checked~label.sk-toggleable__label {background-color: #d4ebff;}#sk-container-id-7 div.sk-label input.sk-toggleable__control:checked~label.sk-toggleable__label {background-color: #d4ebff;}#sk-container-id-7 input.sk-hidden--visually {border: 0;clip: rect(1px 1px 1px 1px);clip: rect(1px, 1px, 1px, 1px);height: 1px;margin: -1px;overflow: hidden;padding: 0;position: absolute;width: 1px;}#sk-container-id-7 div.sk-estimator {font-family: monospace;background-color: #f0f8ff;border: 1px dotted black;border-radius: 0.25em;box-sizing: border-box;margin-bottom: 0.5em;}#sk-container-id-7 div.sk-estimator:hover {background-color: #d4ebff;}#sk-container-id-7 div.sk-parallel-item::after {content: \"\";width: 100%;border-bottom: 1px solid gray;flex-grow: 1;}#sk-container-id-7 div.sk-label:hover label.sk-toggleable__label {background-color: #d4ebff;}#sk-container-id-7 div.sk-serial::before {content: \"\";position: absolute;border-left: 1px solid gray;box-sizing: border-box;top: 0;bottom: 0;left: 50%;z-index: 0;}#sk-container-id-7 div.sk-serial {display: flex;flex-direction: column;align-items: center;background-color: white;padding-right: 0.2em;padding-left: 0.2em;position: relative;}#sk-container-id-7 div.sk-item {position: relative;z-index: 1;}#sk-container-id-7 div.sk-parallel {display: flex;align-items: stretch;justify-content: center;background-color: white;position: relative;}#sk-container-id-7 div.sk-item::before, #sk-container-id-7 div.sk-parallel-item::before {content: \"\";position: absolute;border-left: 1px solid gray;box-sizing: border-box;top: 0;bottom: 0;left: 50%;z-index: -1;}#sk-container-id-7 div.sk-parallel-item {display: flex;flex-direction: column;z-index: 1;position: relative;background-color: white;}#sk-container-id-7 div.sk-parallel-item:first-child::after {align-self: flex-end;width: 50%;}#sk-container-id-7 div.sk-parallel-item:last-child::after {align-self: flex-start;width: 50%;}#sk-container-id-7 div.sk-parallel-item:only-child::after {width: 0;}#sk-container-id-7 div.sk-dashed-wrapped {border: 1px dashed gray;margin: 0 0.4em 0.5em 0.4em;box-sizing: border-box;padding-bottom: 0.4em;background-color: white;}#sk-container-id-7 div.sk-label label {font-family: monospace;font-weight: bold;display: inline-block;line-height: 1.2em;}#sk-container-id-7 div.sk-label-container {text-align: center;}#sk-container-id-7 div.sk-container {/* jupyter's `normalize.less` sets `[hidden] { display: none; }` but bootstrap.min.css set `[hidden] { display: none !important; }` so we also need the `!important` here to be able to override the default hidden behavior on the sphinx rendered scikit-learn.org. See: https://github.com/scikit-learn/scikit-learn/issues/21755 */display: inline-block !important;position: relative;}#sk-container-id-7 div.sk-text-repr-fallback {display: none;}</style><div id=\"sk-container-id-7\" class=\"sk-top-container\"><div class=\"sk-text-repr-fallback\"><pre>DecisionTreeClassifier()</pre><b>In a Jupyter environment, please rerun this cell to show the HTML representation or trust the notebook. <br />On GitHub, the HTML representation is unable to render, please try loading this page with nbviewer.org.</b></div><div class=\"sk-container\" hidden><div class=\"sk-item\"><div class=\"sk-estimator sk-toggleable\"><input class=\"sk-toggleable__control sk-hidden--visually\" id=\"sk-estimator-id-7\" type=\"checkbox\" checked><label for=\"sk-estimator-id-7\" class=\"sk-toggleable__label sk-toggleable__label-arrow\">DecisionTreeClassifier</label><div class=\"sk-toggleable__content\"><pre>DecisionTreeClassifier()</pre></div></div></div></div></div>"
      ],
      "text/plain": [
       "DecisionTreeClassifier()"
      ]
     },
     "execution_count": 311,
     "metadata": {},
     "output_type": "execute_result"
    }
   ],
   "source": [
    "model7.fit(x_train,y_train)"
   ]
  },
  {
   "cell_type": "code",
   "execution_count": 312,
   "id": "ba0978ab",
   "metadata": {},
   "outputs": [
    {
     "data": {
      "text/plain": [
       "0.7666666666666667"
      ]
     },
     "execution_count": 312,
     "metadata": {},
     "output_type": "execute_result"
    }
   ],
   "source": [
    "model7.score(x_test,y_test)"
   ]
  },
  {
   "cell_type": "code",
   "execution_count": 313,
   "id": "89456946",
   "metadata": {},
   "outputs": [
    {
     "data": {
      "text/plain": [
       "array([0, 0, 0, 0, 0, 0, 0, 0, 0, 1, 1, 0, 0, 0, 0, 0, 0, 0, 0, 0, 0, 0,\n",
       "       0, 1, 1, 1, 0, 0, 0, 0, 1, 1, 0, 0, 0, 1, 0, 0, 0, 0, 1, 0, 0, 0,\n",
       "       0, 0, 0, 0, 0, 0, 0, 0, 1, 0, 0, 1, 1, 1, 1, 0])"
      ]
     },
     "execution_count": 313,
     "metadata": {},
     "output_type": "execute_result"
    }
   ],
   "source": [
    "y_predicted3=model7.predict(x_test)\n",
    "y_predicted3"
   ]
  },
  {
   "cell_type": "code",
   "execution_count": 314,
   "id": "3de16eca",
   "metadata": {},
   "outputs": [
    {
     "data": {
      "text/plain": [
       "array([[41,  9],\n",
       "       [ 5,  5]], dtype=int64)"
      ]
     },
     "execution_count": 314,
     "metadata": {},
     "output_type": "execute_result"
    }
   ],
   "source": [
    "cm3=confusion_matrix(y_test,y_predicted3)\n",
    "cm3"
   ]
  },
  {
   "cell_type": "markdown",
   "id": "e27c3505",
   "metadata": {},
   "source": [
    "## accuracy is  with 30% test data so will use 20% data for our model\n"
   ]
  },
  {
   "cell_type": "code",
   "execution_count": 315,
   "id": "dce39d2d",
   "metadata": {},
   "outputs": [
    {
     "data": {
      "text/plain": [
       "1.0"
      ]
     },
     "execution_count": 315,
     "metadata": {},
     "output_type": "execute_result"
    }
   ],
   "source": [
    "\n",
    "model7.score(xtest,ytest)"
   ]
  },
  {
   "cell_type": "code",
   "execution_count": 316,
   "id": "105430e3",
   "metadata": {},
   "outputs": [
    {
     "data": {
      "text/plain": [
       "array([0, 0, 0, 0, 0, 0, 1, 0, 0, 1, 0, 1, 0, 1, 1, 0, 0, 0, 0, 0, 0, 0,\n",
       "       1, 0, 1, 0, 0, 1, 0, 0, 0, 0, 0, 0, 0, 0, 0, 0, 0, 0])"
      ]
     },
     "execution_count": 316,
     "metadata": {},
     "output_type": "execute_result"
    }
   ],
   "source": [
    "y_predicted4=model7.predict(xtest)\n",
    "y_predicted4"
   ]
  },
  {
   "cell_type": "code",
   "execution_count": 317,
   "id": "270bc896",
   "metadata": {},
   "outputs": [
    {
     "data": {
      "text/plain": [
       "array([[32,  0],\n",
       "       [ 0,  8]], dtype=int64)"
      ]
     },
     "execution_count": 317,
     "metadata": {},
     "output_type": "execute_result"
    }
   ],
   "source": [
    "cm4=confusion_matrix(ytest,y_predicted4)\n",
    "cm4"
   ]
  },
  {
   "cell_type": "markdown",
   "id": "5b0b9261",
   "metadata": {},
   "source": [
    "# accuracy with 20% test set is more just becouse of overfitting "
   ]
  },
  {
   "cell_type": "code",
   "execution_count": null,
   "id": "9d654000",
   "metadata": {},
   "outputs": [],
   "source": []
  },
  {
   "cell_type": "code",
   "execution_count": null,
   "id": "472f54ca",
   "metadata": {},
   "outputs": [],
   "source": []
  },
  {
   "cell_type": "markdown",
   "id": "91338dea",
   "metadata": {},
   "source": [
    "# 5- Naive Bayes algorithm"
   ]
  },
  {
   "cell_type": "code",
   "execution_count": 318,
   "id": "0d6048da",
   "metadata": {},
   "outputs": [],
   "source": [
    "from sklearn.naive_bayes import GaussianNB\n",
    "model8=GaussianNB()"
   ]
  },
  {
   "cell_type": "code",
   "execution_count": 319,
   "id": "cd3fca43",
   "metadata": {},
   "outputs": [
    {
     "data": {
      "text/html": [
       "<style>#sk-container-id-8 {color: black;background-color: white;}#sk-container-id-8 pre{padding: 0;}#sk-container-id-8 div.sk-toggleable {background-color: white;}#sk-container-id-8 label.sk-toggleable__label {cursor: pointer;display: block;width: 100%;margin-bottom: 0;padding: 0.3em;box-sizing: border-box;text-align: center;}#sk-container-id-8 label.sk-toggleable__label-arrow:before {content: \"▸\";float: left;margin-right: 0.25em;color: #696969;}#sk-container-id-8 label.sk-toggleable__label-arrow:hover:before {color: black;}#sk-container-id-8 div.sk-estimator:hover label.sk-toggleable__label-arrow:before {color: black;}#sk-container-id-8 div.sk-toggleable__content {max-height: 0;max-width: 0;overflow: hidden;text-align: left;background-color: #f0f8ff;}#sk-container-id-8 div.sk-toggleable__content pre {margin: 0.2em;color: black;border-radius: 0.25em;background-color: #f0f8ff;}#sk-container-id-8 input.sk-toggleable__control:checked~div.sk-toggleable__content {max-height: 200px;max-width: 100%;overflow: auto;}#sk-container-id-8 input.sk-toggleable__control:checked~label.sk-toggleable__label-arrow:before {content: \"▾\";}#sk-container-id-8 div.sk-estimator input.sk-toggleable__control:checked~label.sk-toggleable__label {background-color: #d4ebff;}#sk-container-id-8 div.sk-label input.sk-toggleable__control:checked~label.sk-toggleable__label {background-color: #d4ebff;}#sk-container-id-8 input.sk-hidden--visually {border: 0;clip: rect(1px 1px 1px 1px);clip: rect(1px, 1px, 1px, 1px);height: 1px;margin: -1px;overflow: hidden;padding: 0;position: absolute;width: 1px;}#sk-container-id-8 div.sk-estimator {font-family: monospace;background-color: #f0f8ff;border: 1px dotted black;border-radius: 0.25em;box-sizing: border-box;margin-bottom: 0.5em;}#sk-container-id-8 div.sk-estimator:hover {background-color: #d4ebff;}#sk-container-id-8 div.sk-parallel-item::after {content: \"\";width: 100%;border-bottom: 1px solid gray;flex-grow: 1;}#sk-container-id-8 div.sk-label:hover label.sk-toggleable__label {background-color: #d4ebff;}#sk-container-id-8 div.sk-serial::before {content: \"\";position: absolute;border-left: 1px solid gray;box-sizing: border-box;top: 0;bottom: 0;left: 50%;z-index: 0;}#sk-container-id-8 div.sk-serial {display: flex;flex-direction: column;align-items: center;background-color: white;padding-right: 0.2em;padding-left: 0.2em;position: relative;}#sk-container-id-8 div.sk-item {position: relative;z-index: 1;}#sk-container-id-8 div.sk-parallel {display: flex;align-items: stretch;justify-content: center;background-color: white;position: relative;}#sk-container-id-8 div.sk-item::before, #sk-container-id-8 div.sk-parallel-item::before {content: \"\";position: absolute;border-left: 1px solid gray;box-sizing: border-box;top: 0;bottom: 0;left: 50%;z-index: -1;}#sk-container-id-8 div.sk-parallel-item {display: flex;flex-direction: column;z-index: 1;position: relative;background-color: white;}#sk-container-id-8 div.sk-parallel-item:first-child::after {align-self: flex-end;width: 50%;}#sk-container-id-8 div.sk-parallel-item:last-child::after {align-self: flex-start;width: 50%;}#sk-container-id-8 div.sk-parallel-item:only-child::after {width: 0;}#sk-container-id-8 div.sk-dashed-wrapped {border: 1px dashed gray;margin: 0 0.4em 0.5em 0.4em;box-sizing: border-box;padding-bottom: 0.4em;background-color: white;}#sk-container-id-8 div.sk-label label {font-family: monospace;font-weight: bold;display: inline-block;line-height: 1.2em;}#sk-container-id-8 div.sk-label-container {text-align: center;}#sk-container-id-8 div.sk-container {/* jupyter's `normalize.less` sets `[hidden] { display: none; }` but bootstrap.min.css set `[hidden] { display: none !important; }` so we also need the `!important` here to be able to override the default hidden behavior on the sphinx rendered scikit-learn.org. See: https://github.com/scikit-learn/scikit-learn/issues/21755 */display: inline-block !important;position: relative;}#sk-container-id-8 div.sk-text-repr-fallback {display: none;}</style><div id=\"sk-container-id-8\" class=\"sk-top-container\"><div class=\"sk-text-repr-fallback\"><pre>GaussianNB()</pre><b>In a Jupyter environment, please rerun this cell to show the HTML representation or trust the notebook. <br />On GitHub, the HTML representation is unable to render, please try loading this page with nbviewer.org.</b></div><div class=\"sk-container\" hidden><div class=\"sk-item\"><div class=\"sk-estimator sk-toggleable\"><input class=\"sk-toggleable__control sk-hidden--visually\" id=\"sk-estimator-id-8\" type=\"checkbox\" checked><label for=\"sk-estimator-id-8\" class=\"sk-toggleable__label sk-toggleable__label-arrow\">GaussianNB</label><div class=\"sk-toggleable__content\"><pre>GaussianNB()</pre></div></div></div></div></div>"
      ],
      "text/plain": [
       "GaussianNB()"
      ]
     },
     "execution_count": 319,
     "metadata": {},
     "output_type": "execute_result"
    }
   ],
   "source": [
    "model8.fit(x_train,y_train)"
   ]
  },
  {
   "cell_type": "code",
   "execution_count": 320,
   "id": "c3e020e4",
   "metadata": {},
   "outputs": [
    {
     "data": {
      "text/plain": [
       "0.8666666666666667"
      ]
     },
     "execution_count": 320,
     "metadata": {},
     "output_type": "execute_result"
    }
   ],
   "source": [
    "model8.score(x_test,y_test)"
   ]
  },
  {
   "cell_type": "markdown",
   "id": "343902e8",
   "metadata": {},
   "source": [
    "### In above we use GaussianNB to predict the result"
   ]
  },
  {
   "cell_type": "code",
   "execution_count": null,
   "id": "3a00f52d",
   "metadata": {},
   "outputs": [],
   "source": []
  },
  {
   "cell_type": "markdown",
   "id": "e51504df",
   "metadata": {},
   "source": [
    "### now we will use 20% test data to predict"
   ]
  },
  {
   "cell_type": "code",
   "execution_count": 321,
   "id": "1179b89e",
   "metadata": {},
   "outputs": [
    {
     "data": {
      "text/html": [
       "<style>#sk-container-id-9 {color: black;background-color: white;}#sk-container-id-9 pre{padding: 0;}#sk-container-id-9 div.sk-toggleable {background-color: white;}#sk-container-id-9 label.sk-toggleable__label {cursor: pointer;display: block;width: 100%;margin-bottom: 0;padding: 0.3em;box-sizing: border-box;text-align: center;}#sk-container-id-9 label.sk-toggleable__label-arrow:before {content: \"▸\";float: left;margin-right: 0.25em;color: #696969;}#sk-container-id-9 label.sk-toggleable__label-arrow:hover:before {color: black;}#sk-container-id-9 div.sk-estimator:hover label.sk-toggleable__label-arrow:before {color: black;}#sk-container-id-9 div.sk-toggleable__content {max-height: 0;max-width: 0;overflow: hidden;text-align: left;background-color: #f0f8ff;}#sk-container-id-9 div.sk-toggleable__content pre {margin: 0.2em;color: black;border-radius: 0.25em;background-color: #f0f8ff;}#sk-container-id-9 input.sk-toggleable__control:checked~div.sk-toggleable__content {max-height: 200px;max-width: 100%;overflow: auto;}#sk-container-id-9 input.sk-toggleable__control:checked~label.sk-toggleable__label-arrow:before {content: \"▾\";}#sk-container-id-9 div.sk-estimator input.sk-toggleable__control:checked~label.sk-toggleable__label {background-color: #d4ebff;}#sk-container-id-9 div.sk-label input.sk-toggleable__control:checked~label.sk-toggleable__label {background-color: #d4ebff;}#sk-container-id-9 input.sk-hidden--visually {border: 0;clip: rect(1px 1px 1px 1px);clip: rect(1px, 1px, 1px, 1px);height: 1px;margin: -1px;overflow: hidden;padding: 0;position: absolute;width: 1px;}#sk-container-id-9 div.sk-estimator {font-family: monospace;background-color: #f0f8ff;border: 1px dotted black;border-radius: 0.25em;box-sizing: border-box;margin-bottom: 0.5em;}#sk-container-id-9 div.sk-estimator:hover {background-color: #d4ebff;}#sk-container-id-9 div.sk-parallel-item::after {content: \"\";width: 100%;border-bottom: 1px solid gray;flex-grow: 1;}#sk-container-id-9 div.sk-label:hover label.sk-toggleable__label {background-color: #d4ebff;}#sk-container-id-9 div.sk-serial::before {content: \"\";position: absolute;border-left: 1px solid gray;box-sizing: border-box;top: 0;bottom: 0;left: 50%;z-index: 0;}#sk-container-id-9 div.sk-serial {display: flex;flex-direction: column;align-items: center;background-color: white;padding-right: 0.2em;padding-left: 0.2em;position: relative;}#sk-container-id-9 div.sk-item {position: relative;z-index: 1;}#sk-container-id-9 div.sk-parallel {display: flex;align-items: stretch;justify-content: center;background-color: white;position: relative;}#sk-container-id-9 div.sk-item::before, #sk-container-id-9 div.sk-parallel-item::before {content: \"\";position: absolute;border-left: 1px solid gray;box-sizing: border-box;top: 0;bottom: 0;left: 50%;z-index: -1;}#sk-container-id-9 div.sk-parallel-item {display: flex;flex-direction: column;z-index: 1;position: relative;background-color: white;}#sk-container-id-9 div.sk-parallel-item:first-child::after {align-self: flex-end;width: 50%;}#sk-container-id-9 div.sk-parallel-item:last-child::after {align-self: flex-start;width: 50%;}#sk-container-id-9 div.sk-parallel-item:only-child::after {width: 0;}#sk-container-id-9 div.sk-dashed-wrapped {border: 1px dashed gray;margin: 0 0.4em 0.5em 0.4em;box-sizing: border-box;padding-bottom: 0.4em;background-color: white;}#sk-container-id-9 div.sk-label label {font-family: monospace;font-weight: bold;display: inline-block;line-height: 1.2em;}#sk-container-id-9 div.sk-label-container {text-align: center;}#sk-container-id-9 div.sk-container {/* jupyter's `normalize.less` sets `[hidden] { display: none; }` but bootstrap.min.css set `[hidden] { display: none !important; }` so we also need the `!important` here to be able to override the default hidden behavior on the sphinx rendered scikit-learn.org. See: https://github.com/scikit-learn/scikit-learn/issues/21755 */display: inline-block !important;position: relative;}#sk-container-id-9 div.sk-text-repr-fallback {display: none;}</style><div id=\"sk-container-id-9\" class=\"sk-top-container\"><div class=\"sk-text-repr-fallback\"><pre>GaussianNB()</pre><b>In a Jupyter environment, please rerun this cell to show the HTML representation or trust the notebook. <br />On GitHub, the HTML representation is unable to render, please try loading this page with nbviewer.org.</b></div><div class=\"sk-container\" hidden><div class=\"sk-item\"><div class=\"sk-estimator sk-toggleable\"><input class=\"sk-toggleable__control sk-hidden--visually\" id=\"sk-estimator-id-9\" type=\"checkbox\" checked><label for=\"sk-estimator-id-9\" class=\"sk-toggleable__label sk-toggleable__label-arrow\">GaussianNB</label><div class=\"sk-toggleable__content\"><pre>GaussianNB()</pre></div></div></div></div></div>"
      ],
      "text/plain": [
       "GaussianNB()"
      ]
     },
     "execution_count": 321,
     "metadata": {},
     "output_type": "execute_result"
    }
   ],
   "source": [
    "model8.fit(xtrain,ytrain)"
   ]
  },
  {
   "cell_type": "code",
   "execution_count": 322,
   "id": "019453b3",
   "metadata": {},
   "outputs": [
    {
     "data": {
      "text/plain": [
       "0.8"
      ]
     },
     "execution_count": 322,
     "metadata": {},
     "output_type": "execute_result"
    }
   ],
   "source": [
    "model8.score(xtest,ytest)"
   ]
  },
  {
   "cell_type": "code",
   "execution_count": null,
   "id": "ea97ac1d",
   "metadata": {},
   "outputs": [],
   "source": []
  },
  {
   "cell_type": "code",
   "execution_count": null,
   "id": "4065004d",
   "metadata": {},
   "outputs": [],
   "source": []
  },
  {
   "cell_type": "markdown",
   "id": "509af4b0",
   "metadata": {},
   "source": [
    "# Cross validation"
   ]
  },
  {
   "cell_type": "markdown",
   "id": "bb835e0f",
   "metadata": {},
   "source": [
    "#  3 fold for model1 logistic regression"
   ]
  },
  {
   "cell_type": "code",
   "execution_count": 329,
   "id": "c7bc5b37",
   "metadata": {},
   "outputs": [],
   "source": [
    "import warnings\n",
    "warnings.filterwarnings(\"ignore\")"
   ]
  },
  {
   "cell_type": "code",
   "execution_count": 330,
   "id": "def45afe",
   "metadata": {},
   "outputs": [
    {
     "data": {
      "text/plain": [
       "array([0.56716418, 0.86567164, 0.96969697])"
      ]
     },
     "execution_count": 330,
     "metadata": {},
     "output_type": "execute_result"
    }
   ],
   "source": [
    "from sklearn.model_selection import cross_val_score, KFold\n",
    "kfold = KFold(n_splits=3)\n",
    "result2=cross_val_score(model1, df2, target, cv=kfold)\n",
    "\n",
    "\n",
    "result2"
   ]
  },
  {
   "cell_type": "code",
   "execution_count": 331,
   "id": "91c67798",
   "metadata": {},
   "outputs": [
    {
     "data": {
      "text/plain": [
       "0.8008442635308306"
      ]
     },
     "execution_count": 331,
     "metadata": {},
     "output_type": "execute_result"
    }
   ],
   "source": [
    "result2.mean()"
   ]
  },
  {
   "cell_type": "markdown",
   "id": "ef2a8b14",
   "metadata": {},
   "source": [
    "# for 5 fold"
   ]
  },
  {
   "cell_type": "code",
   "execution_count": 332,
   "id": "f44abb4c",
   "metadata": {},
   "outputs": [
    {
     "data": {
      "text/plain": [
       "array([0.6  , 0.65 , 0.9  , 1.   , 0.925])"
      ]
     },
     "execution_count": 332,
     "metadata": {},
     "output_type": "execute_result"
    }
   ],
   "source": [
    "kfold = KFold(n_splits=5)\n",
    "result3=cross_val_score(model1, df2, target, cv=kfold)\n",
    "\n",
    "\n",
    "result3"
   ]
  },
  {
   "cell_type": "code",
   "execution_count": 333,
   "id": "1c836636",
   "metadata": {},
   "outputs": [
    {
     "data": {
      "text/plain": [
       "0.8150000000000001"
      ]
     },
     "execution_count": 333,
     "metadata": {},
     "output_type": "execute_result"
    }
   ],
   "source": [
    "\n",
    "result3.mean()"
   ]
  },
  {
   "cell_type": "code",
   "execution_count": 334,
   "id": "369e0068",
   "metadata": {},
   "outputs": [
    {
     "data": {
      "text/plain": [
       "array([0.65, 0.55, 0.55, 0.65, 0.9 , 0.95, 1.  , 1.  , 0.9 , 0.95])"
      ]
     },
     "execution_count": 334,
     "metadata": {},
     "output_type": "execute_result"
    }
   ],
   "source": [
    "kfold = KFold(n_splits=10)\n",
    "result4=cross_val_score(model1, df2, target, cv=kfold)\n",
    "result4"
   ]
  },
  {
   "cell_type": "code",
   "execution_count": 335,
   "id": "6de4b20b",
   "metadata": {},
   "outputs": [
    {
     "data": {
      "text/plain": [
       "0.8099999999999999"
      ]
     },
     "execution_count": 335,
     "metadata": {},
     "output_type": "execute_result"
    }
   ],
   "source": [
    "result4.mean()"
   ]
  },
  {
   "cell_type": "code",
   "execution_count": null,
   "id": "ace612e6",
   "metadata": {},
   "outputs": [],
   "source": []
  }
 ],
 "metadata": {
  "kernelspec": {
   "display_name": "Python 3 (ipykernel)",
   "language": "python",
   "name": "python3"
  },
  "language_info": {
   "codemirror_mode": {
    "name": "ipython",
    "version": 3
   },
   "file_extension": ".py",
   "mimetype": "text/x-python",
   "name": "python",
   "nbconvert_exporter": "python",
   "pygments_lexer": "ipython3",
   "version": "3.11.3"
  }
 },
 "nbformat": 4,
 "nbformat_minor": 5
}
